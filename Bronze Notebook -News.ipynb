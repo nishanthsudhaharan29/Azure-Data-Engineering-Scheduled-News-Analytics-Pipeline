{
 "cells": [
  {
   "cell_type": "code",
   "execution_count": 0,
   "metadata": {
    "application/vnd.databricks.v1+cell": {
     "cellMetadata": {
      "byteLimit": 2048000,
      "rowLimit": 10000
     },
     "inputWidgets": {},
     "nuid": "d6d04d2d-3fe0-40c1-8baa-776050882940",
     "showTitle": false,
     "tableResultSettingsMap": {},
     "title": ""
    }
   },
   "outputs": [],
   "source": [
    "# import the necessary libraries\n",
    "import requests\n",
    "import json\n",
    "from datetime import datetime\n",
    "from zoneinfo import ZoneInfo"
   ]
  },
  {
   "cell_type": "code",
   "execution_count": 0,
   "metadata": {
    "application/vnd.databricks.v1+cell": {
     "cellMetadata": {
      "byteLimit": 2048000,
      "rowLimit": 10000
     },
     "inputWidgets": {},
     "nuid": "38ed3181-3b6c-4999-ae29-63b5309aea05",
     "showTitle": false,
     "tableResultSettingsMap": {},
     "title": ""
    }
   },
   "outputs": [
    {
     "output_type": "execute_result",
     "data": {
      "text/plain": [
       "[FileInfo(path='abfss://bronze@adlsnews.dfs.core.windows.net/2025-06-25/', name='2025-06-25/', size=0, modificationTime=1750899209000)]"
      ]
     },
     "execution_count": 26,
     "metadata": {},
     "output_type": "execute_result"
    }
   ],
   "source": [
    "# mount the adls paths\n",
    "tiers = ['bronze', 'silver', 'gold']\n",
    "adls_paths = {tier: f\"abfss://{tier}@adlsnews.dfs.core.windows.net\" for tier in tiers}\n",
    "bronze_path = adls_paths['bronze']\n",
    "silver_path = adls_paths['silver']\n",
    "gold_path = adls_paths['gold']\n",
    "dbutils.fs.ls(bronze_path)\n"
   ]
  },
  {
   "cell_type": "code",
   "execution_count": 0,
   "metadata": {
    "application/vnd.databricks.v1+cell": {
     "cellMetadata": {
      "byteLimit": 2048000,
      "rowLimit": 10000
     },
     "inputWidgets": {},
     "nuid": "b7808181-d9f8-4fe5-ac66-58858ea4ef8e",
     "showTitle": false,
     "tableResultSettingsMap": {},
     "title": ""
    }
   },
   "outputs": [
    {
     "output_type": "stream",
     "name": "stdout",
     "output_type": "stream",
     "text": [
      "Wrote 16115 bytes.\nData written to abfss://bronze@adlsnews.dfs.core.windows.net//2025-06-25/latest_news.json successfully\n"
     ]
    }
   ],
   "source": [
    "# make the API call\n",
    "seattle_tz = ZoneInfo(\"America/Los_Angeles\")\n",
    "now_seattle = datetime.now(seattle_tz)\n",
    "current_date = now_seattle.strftime('%Y-%m-%d')\n",
    "url = \"https://api.mediastack.com/v1/news\"\n",
    "params = {\n",
    "    \"access_key\": \"65303e8978fda6cedf226e4eb1ec5dd2\",\n",
    "    \"countries\": \"us,il\",\n",
    "    \"languages\": \"en\",\n",
    "    \"date\": current_date\n",
    "}\n",
    "\n",
    "try:\n",
    "    response = requests.get(url, params= params)\n",
    "    response.raise_for_status()\n",
    "    data = response.json()['data']\n",
    "    if not data:\n",
    "        raise ValueError(\"No data returned from API\")\n",
    "    else:\n",
    "        path = f\"{bronze_path}/{current_date}/latest_news.json\"\n",
    "        json_data = json.dumps(data)\n",
    "        dbutils.fs.put(path, json_data, overwrite= True)\n",
    "        print(f\"Data written to {path} successfully\")\n",
    "except requests.exceptions.HTTPError as e:\n",
    "    print(f\"HTTP error occurred: {e}\")\n",
    "except ValueError as e:\n",
    "    print(f\"Value error occurred: {e}\")\n",
    "except Exception as e:\n",
    "    print(f\"Error: {e}\")\n",
    "\n"
   ]
  },
  {
   "cell_type": "code",
   "execution_count": 0,
   "metadata": {
    "application/vnd.databricks.v1+cell": {
     "cellMetadata": {
      "byteLimit": 2048000,
      "rowLimit": 10000
     },
     "inputWidgets": {},
     "nuid": "610c0178-ed62-4214-9f19-be092611d985",
     "showTitle": false,
     "tableResultSettingsMap": {},
     "title": ""
    }
   },
   "outputs": [],
   "source": [
    "# pass the variables as arguments\n",
    "bronze_output = {\n",
    "    \"bronze_path\": bronze_path,\n",
    "    \"silver_path\": silver_path,\n",
    "    \"gold_path\": gold_path,\n",
    "    \"current_date\": current_date,\n",
    "    \"bronze_write_path\": path\n",
    "}\n",
    "dbutils.jobs.taskValues.set(key= \"bronze_output\", value= bronze_output)"
   ]
  },
  {
   "cell_type": "code",
   "execution_count": 0,
   "metadata": {
    "application/vnd.databricks.v1+cell": {
     "cellMetadata": {},
     "inputWidgets": {},
     "nuid": "29034066-f150-433c-8b40-e7710a7a5c18",
     "showTitle": false,
     "tableResultSettingsMap": {},
     "title": ""
    }
   },
   "outputs": [],
   "source": []
  }
 ],
 "metadata": {
  "application/vnd.databricks.v1+notebook": {
   "computePreferences": null,
   "dashboards": [],
   "environmentMetadata": {
    "base_environment": "",
    "environment_version": "2"
   },
   "inputWidgetPreferences": null,
   "language": "python",
   "notebookMetadata": {
    "pythonIndentUnit": 4
   },
   "notebookName": "Bronze Notebook",
   "widgets": {}
  },
  "language_info": {
   "name": "python"
  }
 },
 "nbformat": 4,
 "nbformat_minor": 0
}