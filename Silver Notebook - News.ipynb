{
 "cells": [
  {
   "cell_type": "code",
   "execution_count": 0,
   "metadata": {
    "application/vnd.databricks.v1+cell": {
     "cellMetadata": {
      "byteLimit": 2048000,
      "rowLimit": 10000
     },
     "inputWidgets": {},
     "nuid": "47654276-6ffb-4c09-8fd7-9e32ed1de392",
     "showTitle": false,
     "tableResultSettingsMap": {},
     "title": ""
    }
   },
   "outputs": [],
   "source": [
    "from datetime import datetime\n",
    "from zoneinfo import ZoneInfo\n",
    "from pyspark.sql.functions import col\n",
    "from pyspark.sql.types import TimestampType"
   ]
  },
  {
   "cell_type": "code",
   "execution_count": 0,
   "metadata": {
    "application/vnd.databricks.v1+cell": {
     "cellMetadata": {
      "byteLimit": 2048000,
      "rowLimit": 10000
     },
     "inputWidgets": {},
     "nuid": "c6d2c9e0-f595-4275-ac43-a10253a77e25",
     "showTitle": false,
     "tableResultSettingsMap": {},
     "title": ""
    }
   },
   "outputs": [],
   "source": [
    "# # comment later after passing the key value pairs as arguments\n",
    "# tiers = ['bronze', 'silver', 'gold']\n",
    "# adls_paths = {tier: f\"abfss://{tier}@adlsnews.dfs.core.windows.net\" for tier in tiers}\n",
    "# bronze_path = adls_paths['bronze']\n",
    "# silver_path = adls_paths['silver']\n",
    "# gold_path = adls_paths['gold']\n",
    "# seattle_tz = ZoneInfo(\"America/Los_Angeles\")\n",
    "# now_seattle = datetime.now(seattle_tz)\n",
    "# current_date = now_seattle.strftime('%Y-%m-%d')\n",
    "# bronze_write_path = f\"{bronze_path}/{current_date}/latest_news.json\""
   ]
  },
  {
   "cell_type": "code",
   "execution_count": 0,
   "metadata": {
    "application/vnd.databricks.v1+cell": {
     "cellMetadata": {
      "byteLimit": 2048000,
      "rowLimit": 10000
     },
     "inputWidgets": {},
     "nuid": "6fc02526-6453-435f-b50e-cbd251e8cd0c",
     "showTitle": false,
     "tableResultSettingsMap": {},
     "title": ""
    }
   },
   "outputs": [
    {
     "output_type": "display_data",
     "data": {
      "text/plain": [
       "\u001B[0;31m---------------------------------------------------------------------------\u001B[0m\n",
       "\u001B[0;31mTypeError\u001B[0m                                 Traceback (most recent call last)\n",
       "File \u001B[0;32m<command-8098059504380041>, line 2\u001B[0m\n",
       "\u001B[1;32m      1\u001B[0m \u001B[38;5;66;03m# get the task values from the previous tasks\u001B[39;00m\n",
       "\u001B[0;32m----> 2\u001B[0m bronze_output\u001B[38;5;241m=\u001B[39m dbutils\u001B[38;5;241m.\u001B[39mjobs\u001B[38;5;241m.\u001B[39mtaskValues\u001B[38;5;241m.\u001B[39mget(taskKey \u001B[38;5;241m=\u001B[39m \u001B[38;5;124m\"\u001B[39m\u001B[38;5;124mbronze\u001B[39m\u001B[38;5;124m\"\u001B[39m, key \u001B[38;5;241m=\u001B[39m \u001B[38;5;124m\"\u001B[39m\u001B[38;5;124mbronze_output\u001B[39m\u001B[38;5;124m\"\u001B[39m)\n",
       "\u001B[1;32m      3\u001B[0m bronze_path \u001B[38;5;241m=\u001B[39m bronze_output\u001B[38;5;241m.\u001B[39mget(\u001B[38;5;124m\"\u001B[39m\u001B[38;5;124mbronze_path\u001B[39m\u001B[38;5;124m\"\u001B[39m)\n",
       "\u001B[1;32m      4\u001B[0m silver_path \u001B[38;5;241m=\u001B[39m bronze_output\u001B[38;5;241m.\u001B[39mget(\u001B[38;5;124m\"\u001B[39m\u001B[38;5;124msilver_path\u001B[39m\u001B[38;5;124m\"\u001B[39m)\n",
       "\n",
       "File \u001B[0;32m/databricks/python_shell/lib/dbruntime/dbutils.py:208\u001B[0m, in \u001B[0;36mDBUtils.JobsHandler.TaskValuesHandler.get\u001B[0;34m(self, taskKey, key, default, debugValue)\u001B[0m\n",
       "\u001B[1;32m    206\u001B[0m \u001B[38;5;28;01melif\u001B[39;00m \u001B[38;5;124m'\u001B[39m\u001B[38;5;124mNotInJobContextException\u001B[39m\u001B[38;5;124m'\u001B[39m \u001B[38;5;129;01min\u001B[39;00m exceptionClassName:\n",
       "\u001B[1;32m    207\u001B[0m     \u001B[38;5;28;01mif\u001B[39;00m debugValue \u001B[38;5;129;01mis\u001B[39;00m \u001B[38;5;28;01mNone\u001B[39;00m:\n",
       "\u001B[0;32m--> 208\u001B[0m         \u001B[38;5;28;01mraise\u001B[39;00m \u001B[38;5;167;01mTypeError\u001B[39;00m(\n",
       "\u001B[1;32m    209\u001B[0m             \u001B[38;5;124m'\u001B[39m\u001B[38;5;124mMust pass debugValue when calling get outside of a job context. debugValue cannot be None.\u001B[39m\u001B[38;5;124m'\u001B[39m\n",
       "\u001B[1;32m    210\u001B[0m         ) \u001B[38;5;28;01mfrom\u001B[39;00m \u001B[38;5;28;01mNone\u001B[39;00m\n",
       "\u001B[1;32m    211\u001B[0m     \u001B[38;5;28;01mreturn\u001B[39;00m debugValue\n",
       "\u001B[1;32m    213\u001B[0m \u001B[38;5;28;01mraise\u001B[39;00m\n",
       "\n",
       "\u001B[0;31mTypeError\u001B[0m: Must pass debugValue when calling get outside of a job context. debugValue cannot be None."
      ]
     },
     "metadata": {
      "application/vnd.databricks.v1+output": {
       "addedWidgets": {},
       "arguments": {},
       "datasetInfos": [],
       "jupyterProps": {
        "ename": "TypeError",
        "evalue": "Must pass debugValue when calling get outside of a job context. debugValue cannot be None."
       },
       "metadata": {
        "errorSummary": "<span class='ansi-red-fg'>TypeError</span>: Must pass debugValue when calling get outside of a job context. debugValue cannot be None."
       },
       "removedWidgets": [],
       "sqlProps": null,
       "stackFrames": [
        "\u001B[0;31m---------------------------------------------------------------------------\u001B[0m",
        "\u001B[0;31mTypeError\u001B[0m                                 Traceback (most recent call last)",
        "File \u001B[0;32m<command-8098059504380041>, line 2\u001B[0m\n\u001B[1;32m      1\u001B[0m \u001B[38;5;66;03m# get the task values from the previous tasks\u001B[39;00m\n\u001B[0;32m----> 2\u001B[0m bronze_output\u001B[38;5;241m=\u001B[39m dbutils\u001B[38;5;241m.\u001B[39mjobs\u001B[38;5;241m.\u001B[39mtaskValues\u001B[38;5;241m.\u001B[39mget(taskKey \u001B[38;5;241m=\u001B[39m \u001B[38;5;124m\"\u001B[39m\u001B[38;5;124mbronze\u001B[39m\u001B[38;5;124m\"\u001B[39m, key \u001B[38;5;241m=\u001B[39m \u001B[38;5;124m\"\u001B[39m\u001B[38;5;124mbronze_output\u001B[39m\u001B[38;5;124m\"\u001B[39m)\n\u001B[1;32m      3\u001B[0m bronze_path \u001B[38;5;241m=\u001B[39m bronze_output\u001B[38;5;241m.\u001B[39mget(\u001B[38;5;124m\"\u001B[39m\u001B[38;5;124mbronze_path\u001B[39m\u001B[38;5;124m\"\u001B[39m)\n\u001B[1;32m      4\u001B[0m silver_path \u001B[38;5;241m=\u001B[39m bronze_output\u001B[38;5;241m.\u001B[39mget(\u001B[38;5;124m\"\u001B[39m\u001B[38;5;124msilver_path\u001B[39m\u001B[38;5;124m\"\u001B[39m)\n",
        "File \u001B[0;32m/databricks/python_shell/lib/dbruntime/dbutils.py:208\u001B[0m, in \u001B[0;36mDBUtils.JobsHandler.TaskValuesHandler.get\u001B[0;34m(self, taskKey, key, default, debugValue)\u001B[0m\n\u001B[1;32m    206\u001B[0m \u001B[38;5;28;01melif\u001B[39;00m \u001B[38;5;124m'\u001B[39m\u001B[38;5;124mNotInJobContextException\u001B[39m\u001B[38;5;124m'\u001B[39m \u001B[38;5;129;01min\u001B[39;00m exceptionClassName:\n\u001B[1;32m    207\u001B[0m     \u001B[38;5;28;01mif\u001B[39;00m debugValue \u001B[38;5;129;01mis\u001B[39;00m \u001B[38;5;28;01mNone\u001B[39;00m:\n\u001B[0;32m--> 208\u001B[0m         \u001B[38;5;28;01mraise\u001B[39;00m \u001B[38;5;167;01mTypeError\u001B[39;00m(\n\u001B[1;32m    209\u001B[0m             \u001B[38;5;124m'\u001B[39m\u001B[38;5;124mMust pass debugValue when calling get outside of a job context. debugValue cannot be None.\u001B[39m\u001B[38;5;124m'\u001B[39m\n\u001B[1;32m    210\u001B[0m         ) \u001B[38;5;28;01mfrom\u001B[39;00m \u001B[38;5;28;01mNone\u001B[39;00m\n\u001B[1;32m    211\u001B[0m     \u001B[38;5;28;01mreturn\u001B[39;00m debugValue\n\u001B[1;32m    213\u001B[0m \u001B[38;5;28;01mraise\u001B[39;00m\n",
        "\u001B[0;31mTypeError\u001B[0m: Must pass debugValue when calling get outside of a job context. debugValue cannot be None."
       ],
       "type": "baseError"
      }
     },
     "output_type": "display_data"
    }
   ],
   "source": [
    "# get the task values from the previous tasks\n",
    "bronze_output= dbutils.jobs.taskValues.get(taskKey = \"bronze\", key = \"bronze_output\")\n",
    "bronze_path = bronze_output.get(\"bronze_path\")\n",
    "silver_path = bronze_output.get(\"silver_path\")\n",
    "current_date = bronze_output.get(\"current_date\")\n",
    "bronze_write_path = bronze_output.get(\"bronze_write_path\")"
   ]
  },
  {
   "cell_type": "code",
   "execution_count": 0,
   "metadata": {
    "application/vnd.databricks.v1+cell": {
     "cellMetadata": {
      "byteLimit": 2048000,
      "rowLimit": 10000
     },
     "inputWidgets": {},
     "nuid": "4cc6ce89-75f8-4e48-99fd-2672197b6c37",
     "showTitle": false,
     "tableResultSettingsMap": {},
     "title": ""
    }
   },
   "outputs": [
    {
     "output_type": "display_data",
     "data": {
      "text/html": [
       "<style scoped>\n",
       "  .table-result-container {\n",
       "    max-height: 300px;\n",
       "    overflow: auto;\n",
       "  }\n",
       "  table, th, td {\n",
       "    border: 1px solid black;\n",
       "    border-collapse: collapse;\n",
       "  }\n",
       "  th, td {\n",
       "    padding: 5px;\n",
       "  }\n",
       "  th {\n",
       "    text-align: left;\n",
       "  }\n",
       "</style><div class='table-result-container'><table class='table-result'><thead style='background-color: white'><tr><th>author</th><th>category</th><th>country</th><th>description</th><th>image</th><th>language</th><th>published_at</th><th>source</th><th>title</th><th>url</th></tr></thead><tbody><tr><td>Justin Lynch</td><td>sports</td><td>us</td><td>Connor Bedard commits to Chicago</td><td>https://library.sportingnews.com/styles/crop_style_16_9_desktop_webp/s3/2024-06/sporting-news-2022-sn-live-e97a2913-4adb-4215-b12f-50eaa9540b4c.jpeg.webp?itok=bAuiEHxe</td><td>en</td><td>2025-06-25T23:59:18+00:00</td><td>Sporting News</td><td>Hawks superstar makes firm statement on his future</td><td>https://www.sportingnews.com/us/nhl/news/hawks-superstar-makes-firm-statement-his-future/1988b92c5cfc7a1383a53153</td></tr><tr><td>Associated Press</td><td>general</td><td>us</td><td>When Northwest Orient Flight 2501 crashed, it was the worst aviation disaster in U.S. history.</td><td>https://nypost.com/wp-content%2Fuploads%2Fsites%2F2%2F2025%2F06%2FUntitled-1_0318fd.jpg?quality%3D90%26strip%3Dall</td><td>en</td><td>2025-06-25T23:59:11+00:00</td><td>New York Post</td><td>75 years after the then-worst crash in US history, search ends for a plane in Lake Michigan</td><td>https://nypost.com/2025/06/25/us-news/75-years-after-the-then-worst-crash-in-us-history-search-ends-for-a-plane-in-lake-michigan/</td></tr><tr><td>Caleigh Wells | AP</td><td>general</td><td>us</td><td>People shopping for appliances often look for the Energy Star symbol. The U.S.-based program says its blue seal of approval on energy-efficient appliances saves households an average of $450 a year on their utility bills. Since its launch in 1992, Energy Star appliances also have helped prevent 4 billion metric tons of greenhouse gas emissions — the main cause of climate change.But the program’s future is unclear. The federal Environmental Protection Agency has announced an agency reorganization plan under which its Energy Star offices would be eliminated.That would make it more difficult...</td><td>null</td><td>en</td><td>2025-06-25T23:58:53+00:00</td><td>suntimes</td><td>How to find energy-efficient appliances if Energy Star program ends</td><td>https://chicago.suntimes.com/consumer-affairs/2025/06/25/energy-star-energy-efficient-appliances-program-alternatives-tips</td></tr><tr><td>Billy Heyen</td><td>sports</td><td>us</td><td>The new Boston defenseman could stick around.</td><td>https://library.sportingnews.com/styles/crop_style_16_9_desktop_webp/s3/2025-06/USATSI_25920677.jpg.webp?itok=eq8FuL87</td><td>en</td><td>2025-06-25T23:58:42+00:00</td><td>Sporting News</td><td>Bruins' Henri Jokiharju gets $10.8 million contract update</td><td>https://www.sportingnews.com/us/nhl/news/bruins-henri-jokiharju-108-million-contract-update/b7d54441b6fd3620af52ac14</td></tr><tr><td>Claire Fahy and Alyce McFadden</td><td>general</td><td>us</td><td>The state assemblyman ran a campaign tightly focused on issues related to affordability. Here is a look at where he stands on those issues and others.</td><td>https://static01.nyt.com/images/2025/06/25/multimedia/25nyc-election-mamdani-on-the-issues-topart-zblf/25nyc-election-mamdani-on-the-issues-topart-zblf-mediumSquareAt3X.jpg</td><td>en</td><td>2025-06-25T23:58:26+00:00</td><td>The New York Times</td><td>A Look at Zohran Mamdani’s Stances on Key Issues</td><td>https://www.nytimes.com/2025/06/25/nyregion/mamdani-policies-stances.html</td></tr><tr><td>Patrick Saunders</td><td>general</td><td>us</td><td>The lefty has succeeded at Coors Field but rarely dominated.</td><td>https://www.denverpost.com/wp-content/uploads/2017/04/clayton-kershaw.jpg?w=1400px&strip=all</td><td>en</td><td>2025-06-25T23:57:56+00:00</td><td>photos</td><td>Dodgers’ Clayton Kershaw, eight strikeouts shy of 3,000, faces Rockies Thursday at Coors Field</td><td>https://www.denverpost.com/2025/06/25/clayton-kershaw-strikeouts-milestone-rockies-dodgers/</td></tr><tr><td>Óscar Contreras</td><td>general</td><td>us</td><td>Lakewood police is asking for the public’s help to find two suspects accused of stealing approximately $15,000 worth of tools and equipment out of The Academy Place last month.</td><td>null</td><td>en</td><td>2025-06-25T23:56:53+00:00</td><td>thedenverchannel</td><td>Lakewood police seeking public’s help to identify theft suspects accused of stealing $15k worth of equipment</td><td>https://www.denver7.com/news/crime/lakewood-police-seeking-publics-help-to-identify-theft-suspects-accused-of-stealing-15k-worth-of-equipment</td></tr><tr><td>Investing.com</td><td>business</td><td>us</td><td>Lockheed Martin declares third quarter 2025 dividend of $3.30</td><td>https://i-invdn-com.investing.com/news/news_headline_rolled_108x81.jpg</td><td>en</td><td>2025-06-25T23:56:50+00:00</td><td>Investing.com | Stock Market Quotes &amp; Financial News</td><td>Lockheed Martin declares third quarter 2025 dividend of $3.30</td><td>https://www.investing.com/news/company-news/lockheed-martin-declares-third-quarter-2025-dividend-of-330-93CH-4111597</td></tr><tr><td>Abhijeet Ko</td><td>sports</td><td>us</td><td>Technical fouls are being called left, right, and center during this WNBA season, and we love to see the passion! Stephanie White said it best, &#8220;This is what happens. You’ve got competitive women who are the best in the world at what they do, right? And when you allow them to play physical, and you [&#8230;]The post Rickea Jackson Made Up Her Mind on Angel Reese Before Sky–Sparks Game Turned Heated appeared first on EssentiallySports.</td><td>https://image-cdn.essentiallysports.com/wp-content/uploads/Angel-Reese-Rickea-Jackson--473x315.jpg</td><td>en</td><td>2025-06-25T23:56:32+00:00</td><td>Essentially Sports</td><td>Rickea Jackson Made Up Her Mind on Angel Reese Before Sky–Sparks Game Turned Heated</td><td>https://www.essentiallysports.com/wnba-basketball-news-rickea-jackson-made-up-her-mind-on-angel-reese-before-sky-sparks-game-turned-heated/</td></tr><tr><td>Reuters</td><td>business</td><td>us</td><td>Mexico's top court orders release of Ayotzinapa missing students case file</td><td>https://i-invdn-com.investing.com/trkd-images/LYNXMPEL5O15D_L.jpg</td><td>en</td><td>2025-06-25T23:56:20+00:00</td><td>Investing.com | Stock Market Quotes &amp; Financial News</td><td>Mexico's top court orders release of Ayotzinapa missing students case file</td><td>https://www.investing.com/news/world-news/mexicos-top-court-orders-release-of-ayotzinapa-missing-students-case-file-4111596</td></tr><tr><td>Elizabeth Payne</td><td>general</td><td>us</td><td>'I believe we are going to face a potential catastrophic heat wave here. It is only a matter of time,' says physiology researcher Glen Kenny</td><td>null</td><td>en</td><td>2025-06-25T23:56:12+00:00</td><td>ottawacitizen</td><td>'Only a matter of time' until Ottawa faces a catastrophic heat wave</td><td>https://ottawacitizen.com/news/local-news/only-a-matter-of-time-until-ottawa-faces-a-catastrophic-heat-wave</td></tr><tr><td>Investing.com</td><td>business</td><td>us</td><td>Announcement Regarding Filing of Annual Report on Form 20-F with the U.S. Securities and Exchange Commission</td><td>https://i-invdn-com.investing.com/news/World_News_10_M_1440052130.jpg</td><td>en</td><td>2025-06-25T23:56:04+00:00</td><td>Investing.com | Stock Market Quotes &amp; Financial News</td><td>Announcement Regarding Filing of Annual Report on Form 20-F with the U.S. Securities and Exchange Commission</td><td>https://www.investing.com/news/press-releases/announcement-regarding-filing-of-annual-report-on-form-20f-with-the-us-securities-and-exchange-commission-93CH-4111595</td></tr><tr><td>Reuters</td><td>business</td><td>us</td><td>Tesla's robotaxi peppered with driving mistakes in Texas tests</td><td>https://i-invdn-com.investing.com/trkd-images/LYNXMPEL5O0ZJ_L.jpg</td><td>en</td><td>2025-06-25T23:55:58+00:00</td><td>Investing.com | Stock Market Quotes &amp; Financial News</td><td>Tesla's robotaxi peppered with driving mistakes in Texas tests</td><td>https://www.investing.com/news/stock-market-news/teslas-robotaxi-peppered-with-driving-mistakes-in-texas-tests-4111236</td></tr><tr><td>Jeremy Fuster</td><td>general</td><td>us</td><td>The \"Dune\" director will helm the first 007 film under Amazon MGM's creative controlThe post Denis Villeneuve to Direct Next James Bond Film appeared first on TheWrap.</td><td>null</td><td>en</td><td>2025-06-25T23:55:58+00:00</td><td>thewrap</td><td>Denis Villeneuve to Direct Next James Bond Film</td><td>https://www.thewrap.com/denis-villeneuve-james-bond-amazon-mgm/</td></tr><tr><td>Nate Gartrell</td><td>general</td><td>us</td><td>Viliami Ofanoa spent two years behind bars, but after the murder case went to a jury he walked out of jail a free man.</td><td>https://www.mercurynews.com/wp-content/uploads/2017/10/tweeting-jurors-fines.jpg?w=1400px&strip=all</td><td>en</td><td>2025-06-25T23:55:54+00:00</td><td>Mercury News</td><td>Oakland man not guilty of murder in 2021 Concord homicide</td><td>https://www.mercurynews.com/2025/06/25/oakland-man-not-guilty-of-murder-in-2021-concord-homicide/</td></tr><tr><td>Tyler Shaun Evains</td><td>general</td><td>us</td><td>Winners took home bronze for sports journalist of the year, gold for feature photo and more at the June 22, 2025 awards ceremony.</td><td>https://www.pasadenastarnews.com/wp-content/uploads/2025/06/LDN-L-SOCAL-AWARDS-0626-01_df3d9f.jpg?w=1400px&strip=all</td><td>en</td><td>2025-06-25T23:54:42+00:00</td><td>pasadenastarnews</td><td>SCNG reporters have strong showing at 67th SoCal Journalism Awards</td><td>https://www.pasadenastarnews.com/2025/06/25/scng-reporters-have-strong-showing-at-67th-socal-journalism-awards/</td></tr><tr><td>Tyler Shaun Evains</td><td>general</td><td>us</td><td>Winners took home bronze for sports journalist of the year, gold for feature photo and more at the June 22, 2025 awards ceremony.</td><td>https://www.ocregister.com/wp-content/uploads/2025/06/LDN-L-SOCAL-AWARDS-0626-01_df3d9f.jpg?w=1400px&strip=all</td><td>en</td><td>2025-06-25T23:54:42+00:00</td><td>ocregister</td><td>SCNG reporters have strong showing at 67th SoCal Journalism Awards</td><td>https://www.ocregister.com/2025/06/25/scng-reporters-have-strong-showing-at-67th-socal-journalism-awards/</td></tr><tr><td>Tyler Shaun Evains</td><td>general</td><td>us</td><td>Winners took home bronze for sports journalist of the year, gold for feature photo and more at the June 22, 2025 awards ceremony.</td><td>https://www.dailynews.com/wp-content/uploads/2025/06/LDN-L-SOCAL-AWARDS-0626-01_df3d9f.jpg?w=1400px&strip=all</td><td>en</td><td>2025-06-25T23:54:42+00:00</td><td>dailynews</td><td>SCNG reporters have strong showing at 67th SoCal Journalism Awards</td><td>https://www.dailynews.com/2025/06/25/scng-reporters-have-strong-showing-at-67th-socal-journalism-awards/</td></tr><tr><td>Tyler Shaun Evains</td><td>general</td><td>us</td><td>Winners took home bronze for sports journalist of the year, gold for feature photo and more at the June 22, 2025 awards ceremony.</td><td>https://www.redlandsdailyfacts.com/wp-content/uploads/2025/06/LDN-L-SOCAL-AWARDS-0626-01_df3d9f.jpg?w=1400px&strip=all</td><td>en</td><td>2025-06-25T23:54:42+00:00</td><td>redlandsdailyfacts</td><td>SCNG reporters have strong showing at 67th SoCal Journalism Awards</td><td>https://www.redlandsdailyfacts.com/2025/06/25/scng-reporters-have-strong-showing-at-67th-socal-journalism-awards/</td></tr><tr><td>Tyler Shaun Evains</td><td>general</td><td>us</td><td>Winners took home bronze for sports journalist of the year, gold for feature photo and more at the June 22, 2025 awards ceremony.</td><td>https://www.whittierdailynews.com/wp-content/uploads/2025/06/LDN-L-SOCAL-AWARDS-0626-01_df3d9f.jpg?w=1400px&strip=all</td><td>en</td><td>2025-06-25T23:54:42+00:00</td><td>whittierdailynews</td><td>SCNG reporters have strong showing at 67th SoCal Journalism Awards</td><td>https://www.whittierdailynews.com/2025/06/25/scng-reporters-have-strong-showing-at-67th-socal-journalism-awards/</td></tr><tr><td>Tyler Shaun Evains</td><td>general</td><td>us</td><td>Winners took home bronze for sports journalist of the year, gold for feature photo and more at the June 22, 2025 awards ceremony.</td><td>https://www.dailybreeze.com/wp-content/uploads/2025/06/LDN-L-SOCAL-AWARDS-0626-01_df3d9f.jpg?w=1400px&strip=all</td><td>en</td><td>2025-06-25T23:54:42+00:00</td><td>dailybreeze</td><td>SCNG reporters have strong showing at 67th SoCal Journalism Awards</td><td>https://www.dailybreeze.com/2025/06/25/scng-reporters-have-strong-showing-at-67th-socal-journalism-awards/</td></tr><tr><td>Tyler Shaun Evains</td><td>general</td><td>us</td><td>Winners took home bronze for sports journalist of the year, gold for feature photo and more at the June 22, 2025 awards ceremony.</td><td>https://www.sgvtribune.com/wp-content/uploads/2025/06/LDN-L-SOCAL-AWARDS-0626-01_df3d9f.jpg?w=1400px&strip=all</td><td>en</td><td>2025-06-25T23:54:42+00:00</td><td>sgvtribune</td><td>SCNG reporters have strong showing at 67th SoCal Journalism Awards</td><td>https://www.sgvtribune.com/2025/06/25/scng-reporters-have-strong-showing-at-67th-socal-journalism-awards/</td></tr><tr><td>Tyler Shaun Evains</td><td>general</td><td>us</td><td>Winners took home bronze for sports journalist of the year, gold for feature photo and more at the June 22, 2025 awards ceremony.</td><td>https://www.presstelegram.com/wp-content/uploads/2025/06/LDN-L-SOCAL-AWARDS-0626-01_df3d9f.jpg?w=1400px&strip=all</td><td>en</td><td>2025-06-25T23:54:42+00:00</td><td>presstelegram</td><td>SCNG reporters have strong showing at 67th SoCal Journalism Awards</td><td>https://www.presstelegram.com/2025/06/25/scng-reporters-have-strong-showing-at-67th-socal-journalism-awards/</td></tr><tr><td>Tyler Shaun Evains</td><td>general</td><td>us</td><td>Winners took home bronze for sports journalist of the year, gold for feature photo and more at the June 22, 2025 awards ceremony.</td><td>https://www.dailybulletin.com/wp-content/uploads/2025/06/LDN-L-SOCAL-AWARDS-0626-01_df3d9f.jpg?w=1400px&strip=all</td><td>en</td><td>2025-06-25T23:54:42+00:00</td><td>dailybulletin</td><td>SCNG reporters have strong showing at 67th SoCal Journalism Awards</td><td>https://www.dailybulletin.com/2025/06/25/scng-reporters-have-strong-showing-at-67th-socal-journalism-awards/</td></tr><tr><td>Marissa Plescia</td><td>general</td><td>us</td><td>Two digital health companies have gone public this year: Hinge Health and Omada Health. During a recent panel discussion, venture capitalists shared lessons learned about health tech in the public markets.The post What VCs Have Learned About Health Tech in the Public Markets appeared first on MedCity News.</td><td>null</td><td>en</td><td>2025-06-25T23:54:32+00:00</td><td>medcitynews</td><td>What VCs Have Learned About Health Tech in the Public Markets</td><td>https://medcitynews.com/2025/06/what-vcs-have-learned-about-health-tech-in-the-public-markets/</td></tr></tbody></table></div>"
      ]
     },
     "metadata": {
      "application/vnd.databricks.v1+output": {
       "addedWidgets": {},
       "aggData": [],
       "aggError": "",
       "aggOverflow": false,
       "aggSchema": [],
       "aggSeriesLimitReached": false,
       "aggType": "",
       "arguments": {},
       "columnCustomDisplayInfos": {},
       "data": [
        [
         "Justin Lynch",
         "sports",
         "us",
         "Connor Bedard commits to Chicago",
         "https://library.sportingnews.com/styles/crop_style_16_9_desktop_webp/s3/2024-06/sporting-news-2022-sn-live-e97a2913-4adb-4215-b12f-50eaa9540b4c.jpeg.webp?itok=bAuiEHxe",
         "en",
         "2025-06-25T23:59:18+00:00",
         "Sporting News",
         "Hawks superstar makes firm statement on his future",
         "https://www.sportingnews.com/us/nhl/news/hawks-superstar-makes-firm-statement-his-future/1988b92c5cfc7a1383a53153"
        ],
        [
         "Associated Press",
         "general",
         "us",
         "When Northwest Orient Flight 2501 crashed, it was the worst aviation disaster in U.S. history.",
         "https://nypost.com/wp-content%2Fuploads%2Fsites%2F2%2F2025%2F06%2FUntitled-1_0318fd.jpg?quality%3D90%26strip%3Dall",
         "en",
         "2025-06-25T23:59:11+00:00",
         "New York Post",
         "75 years after the then-worst crash in US history, search ends for a plane in Lake Michigan",
         "https://nypost.com/2025/06/25/us-news/75-years-after-the-then-worst-crash-in-us-history-search-ends-for-a-plane-in-lake-michigan/"
        ],
        [
         "Caleigh Wells | AP",
         "general",
         "us",
         "People shopping for appliances often look for the Energy Star symbol. The U.S.-based program says its blue seal of approval on energy-efficient appliances saves households an average of $450 a year on their utility bills. Since its launch in 1992, Energy Star appliances also have helped prevent 4 billion metric tons of greenhouse gas emissions — the main cause of climate change.But the program’s future is unclear. The federal Environmental Protection Agency has announced an agency reorganization plan under which its Energy Star offices would be eliminated.That would make it more difficult...",
         null,
         "en",
         "2025-06-25T23:58:53+00:00",
         "suntimes",
         "How to find energy-efficient appliances if Energy Star program ends",
         "https://chicago.suntimes.com/consumer-affairs/2025/06/25/energy-star-energy-efficient-appliances-program-alternatives-tips"
        ],
        [
         "Billy Heyen",
         "sports",
         "us",
         "The new Boston defenseman could stick around.",
         "https://library.sportingnews.com/styles/crop_style_16_9_desktop_webp/s3/2025-06/USATSI_25920677.jpg.webp?itok=eq8FuL87",
         "en",
         "2025-06-25T23:58:42+00:00",
         "Sporting News",
         "Bruins' Henri Jokiharju gets $10.8 million contract update",
         "https://www.sportingnews.com/us/nhl/news/bruins-henri-jokiharju-108-million-contract-update/b7d54441b6fd3620af52ac14"
        ],
        [
         "Claire Fahy and Alyce McFadden",
         "general",
         "us",
         "The state assemblyman ran a campaign tightly focused on issues related to affordability. Here is a look at where he stands on those issues and others.",
         "https://static01.nyt.com/images/2025/06/25/multimedia/25nyc-election-mamdani-on-the-issues-topart-zblf/25nyc-election-mamdani-on-the-issues-topart-zblf-mediumSquareAt3X.jpg",
         "en",
         "2025-06-25T23:58:26+00:00",
         "The New York Times",
         "A Look at Zohran Mamdani’s Stances on Key Issues",
         "https://www.nytimes.com/2025/06/25/nyregion/mamdani-policies-stances.html"
        ],
        [
         "Patrick Saunders",
         "general",
         "us",
         "The lefty has succeeded at Coors Field but rarely dominated.",
         "https://www.denverpost.com/wp-content/uploads/2017/04/clayton-kershaw.jpg?w=1400px&strip=all",
         "en",
         "2025-06-25T23:57:56+00:00",
         "photos",
         "Dodgers’ Clayton Kershaw, eight strikeouts shy of 3,000, faces Rockies Thursday at Coors Field",
         "https://www.denverpost.com/2025/06/25/clayton-kershaw-strikeouts-milestone-rockies-dodgers/"
        ],
        [
         "Óscar Contreras",
         "general",
         "us",
         "Lakewood police is asking for the public’s help to find two suspects accused of stealing approximately $15,000 worth of tools and equipment out of The Academy Place last month.",
         null,
         "en",
         "2025-06-25T23:56:53+00:00",
         "thedenverchannel",
         "Lakewood police seeking public’s help to identify theft suspects accused of stealing $15k worth of equipment",
         "https://www.denver7.com/news/crime/lakewood-police-seeking-publics-help-to-identify-theft-suspects-accused-of-stealing-15k-worth-of-equipment"
        ],
        [
         "Investing.com",
         "business",
         "us",
         "Lockheed Martin declares third quarter 2025 dividend of $3.30",
         "https://i-invdn-com.investing.com/news/news_headline_rolled_108x81.jpg",
         "en",
         "2025-06-25T23:56:50+00:00",
         "Investing.com | Stock Market Quotes &amp; Financial News",
         "Lockheed Martin declares third quarter 2025 dividend of $3.30",
         "https://www.investing.com/news/company-news/lockheed-martin-declares-third-quarter-2025-dividend-of-330-93CH-4111597"
        ],
        [
         "Abhijeet Ko",
         "sports",
         "us",
         "Technical fouls are being called left, right, and center during this WNBA season, and we love to see the passion! Stephanie White said it best, &#8220;This is what happens. You’ve got competitive women who are the best in the world at what they do, right? And when you allow them to play physical, and you [&#8230;]The post Rickea Jackson Made Up Her Mind on Angel Reese Before Sky–Sparks Game Turned Heated appeared first on EssentiallySports.",
         "https://image-cdn.essentiallysports.com/wp-content/uploads/Angel-Reese-Rickea-Jackson--473x315.jpg",
         "en",
         "2025-06-25T23:56:32+00:00",
         "Essentially Sports",
         "Rickea Jackson Made Up Her Mind on Angel Reese Before Sky–Sparks Game Turned Heated",
         "https://www.essentiallysports.com/wnba-basketball-news-rickea-jackson-made-up-her-mind-on-angel-reese-before-sky-sparks-game-turned-heated/"
        ],
        [
         "Reuters",
         "business",
         "us",
         "Mexico's top court orders release of Ayotzinapa missing students case file",
         "https://i-invdn-com.investing.com/trkd-images/LYNXMPEL5O15D_L.jpg",
         "en",
         "2025-06-25T23:56:20+00:00",
         "Investing.com | Stock Market Quotes &amp; Financial News",
         "Mexico's top court orders release of Ayotzinapa missing students case file",
         "https://www.investing.com/news/world-news/mexicos-top-court-orders-release-of-ayotzinapa-missing-students-case-file-4111596"
        ],
        [
         "Elizabeth Payne",
         "general",
         "us",
         "'I believe we are going to face a potential catastrophic heat wave here. It is only a matter of time,' says physiology researcher Glen Kenny",
         null,
         "en",
         "2025-06-25T23:56:12+00:00",
         "ottawacitizen",
         "'Only a matter of time' until Ottawa faces a catastrophic heat wave",
         "https://ottawacitizen.com/news/local-news/only-a-matter-of-time-until-ottawa-faces-a-catastrophic-heat-wave"
        ],
        [
         "Investing.com",
         "business",
         "us",
         "Announcement Regarding Filing of Annual Report on Form 20-F with the U.S. Securities and Exchange Commission",
         "https://i-invdn-com.investing.com/news/World_News_10_M_1440052130.jpg",
         "en",
         "2025-06-25T23:56:04+00:00",
         "Investing.com | Stock Market Quotes &amp; Financial News",
         "Announcement Regarding Filing of Annual Report on Form 20-F with the U.S. Securities and Exchange Commission",
         "https://www.investing.com/news/press-releases/announcement-regarding-filing-of-annual-report-on-form-20f-with-the-us-securities-and-exchange-commission-93CH-4111595"
        ],
        [
         "Reuters",
         "business",
         "us",
         "Tesla's robotaxi peppered with driving mistakes in Texas tests",
         "https://i-invdn-com.investing.com/trkd-images/LYNXMPEL5O0ZJ_L.jpg",
         "en",
         "2025-06-25T23:55:58+00:00",
         "Investing.com | Stock Market Quotes &amp; Financial News",
         "Tesla's robotaxi peppered with driving mistakes in Texas tests",
         "https://www.investing.com/news/stock-market-news/teslas-robotaxi-peppered-with-driving-mistakes-in-texas-tests-4111236"
        ],
        [
         "Jeremy Fuster",
         "general",
         "us",
         "The \"Dune\" director will helm the first 007 film under Amazon MGM's creative controlThe post Denis Villeneuve to Direct Next James Bond Film appeared first on TheWrap.",
         null,
         "en",
         "2025-06-25T23:55:58+00:00",
         "thewrap",
         "Denis Villeneuve to Direct Next James Bond Film",
         "https://www.thewrap.com/denis-villeneuve-james-bond-amazon-mgm/"
        ],
        [
         "Nate Gartrell",
         "general",
         "us",
         "Viliami Ofanoa spent two years behind bars, but after the murder case went to a jury he walked out of jail a free man.",
         "https://www.mercurynews.com/wp-content/uploads/2017/10/tweeting-jurors-fines.jpg?w=1400px&strip=all",
         "en",
         "2025-06-25T23:55:54+00:00",
         "Mercury News",
         "Oakland man not guilty of murder in 2021 Concord homicide",
         "https://www.mercurynews.com/2025/06/25/oakland-man-not-guilty-of-murder-in-2021-concord-homicide/"
        ],
        [
         "Tyler Shaun Evains",
         "general",
         "us",
         "Winners took home bronze for sports journalist of the year, gold for feature photo and more at the June 22, 2025 awards ceremony.",
         "https://www.pasadenastarnews.com/wp-content/uploads/2025/06/LDN-L-SOCAL-AWARDS-0626-01_df3d9f.jpg?w=1400px&strip=all",
         "en",
         "2025-06-25T23:54:42+00:00",
         "pasadenastarnews",
         "SCNG reporters have strong showing at 67th SoCal Journalism Awards",
         "https://www.pasadenastarnews.com/2025/06/25/scng-reporters-have-strong-showing-at-67th-socal-journalism-awards/"
        ],
        [
         "Tyler Shaun Evains",
         "general",
         "us",
         "Winners took home bronze for sports journalist of the year, gold for feature photo and more at the June 22, 2025 awards ceremony.",
         "https://www.ocregister.com/wp-content/uploads/2025/06/LDN-L-SOCAL-AWARDS-0626-01_df3d9f.jpg?w=1400px&strip=all",
         "en",
         "2025-06-25T23:54:42+00:00",
         "ocregister",
         "SCNG reporters have strong showing at 67th SoCal Journalism Awards",
         "https://www.ocregister.com/2025/06/25/scng-reporters-have-strong-showing-at-67th-socal-journalism-awards/"
        ],
        [
         "Tyler Shaun Evains",
         "general",
         "us",
         "Winners took home bronze for sports journalist of the year, gold for feature photo and more at the June 22, 2025 awards ceremony.",
         "https://www.dailynews.com/wp-content/uploads/2025/06/LDN-L-SOCAL-AWARDS-0626-01_df3d9f.jpg?w=1400px&strip=all",
         "en",
         "2025-06-25T23:54:42+00:00",
         "dailynews",
         "SCNG reporters have strong showing at 67th SoCal Journalism Awards",
         "https://www.dailynews.com/2025/06/25/scng-reporters-have-strong-showing-at-67th-socal-journalism-awards/"
        ],
        [
         "Tyler Shaun Evains",
         "general",
         "us",
         "Winners took home bronze for sports journalist of the year, gold for feature photo and more at the June 22, 2025 awards ceremony.",
         "https://www.redlandsdailyfacts.com/wp-content/uploads/2025/06/LDN-L-SOCAL-AWARDS-0626-01_df3d9f.jpg?w=1400px&strip=all",
         "en",
         "2025-06-25T23:54:42+00:00",
         "redlandsdailyfacts",
         "SCNG reporters have strong showing at 67th SoCal Journalism Awards",
         "https://www.redlandsdailyfacts.com/2025/06/25/scng-reporters-have-strong-showing-at-67th-socal-journalism-awards/"
        ],
        [
         "Tyler Shaun Evains",
         "general",
         "us",
         "Winners took home bronze for sports journalist of the year, gold for feature photo and more at the June 22, 2025 awards ceremony.",
         "https://www.whittierdailynews.com/wp-content/uploads/2025/06/LDN-L-SOCAL-AWARDS-0626-01_df3d9f.jpg?w=1400px&strip=all",
         "en",
         "2025-06-25T23:54:42+00:00",
         "whittierdailynews",
         "SCNG reporters have strong showing at 67th SoCal Journalism Awards",
         "https://www.whittierdailynews.com/2025/06/25/scng-reporters-have-strong-showing-at-67th-socal-journalism-awards/"
        ],
        [
         "Tyler Shaun Evains",
         "general",
         "us",
         "Winners took home bronze for sports journalist of the year, gold for feature photo and more at the June 22, 2025 awards ceremony.",
         "https://www.dailybreeze.com/wp-content/uploads/2025/06/LDN-L-SOCAL-AWARDS-0626-01_df3d9f.jpg?w=1400px&strip=all",
         "en",
         "2025-06-25T23:54:42+00:00",
         "dailybreeze",
         "SCNG reporters have strong showing at 67th SoCal Journalism Awards",
         "https://www.dailybreeze.com/2025/06/25/scng-reporters-have-strong-showing-at-67th-socal-journalism-awards/"
        ],
        [
         "Tyler Shaun Evains",
         "general",
         "us",
         "Winners took home bronze for sports journalist of the year, gold for feature photo and more at the June 22, 2025 awards ceremony.",
         "https://www.sgvtribune.com/wp-content/uploads/2025/06/LDN-L-SOCAL-AWARDS-0626-01_df3d9f.jpg?w=1400px&strip=all",
         "en",
         "2025-06-25T23:54:42+00:00",
         "sgvtribune",
         "SCNG reporters have strong showing at 67th SoCal Journalism Awards",
         "https://www.sgvtribune.com/2025/06/25/scng-reporters-have-strong-showing-at-67th-socal-journalism-awards/"
        ],
        [
         "Tyler Shaun Evains",
         "general",
         "us",
         "Winners took home bronze for sports journalist of the year, gold for feature photo and more at the June 22, 2025 awards ceremony.",
         "https://www.presstelegram.com/wp-content/uploads/2025/06/LDN-L-SOCAL-AWARDS-0626-01_df3d9f.jpg?w=1400px&strip=all",
         "en",
         "2025-06-25T23:54:42+00:00",
         "presstelegram",
         "SCNG reporters have strong showing at 67th SoCal Journalism Awards",
         "https://www.presstelegram.com/2025/06/25/scng-reporters-have-strong-showing-at-67th-socal-journalism-awards/"
        ],
        [
         "Tyler Shaun Evains",
         "general",
         "us",
         "Winners took home bronze for sports journalist of the year, gold for feature photo and more at the June 22, 2025 awards ceremony.",
         "https://www.dailybulletin.com/wp-content/uploads/2025/06/LDN-L-SOCAL-AWARDS-0626-01_df3d9f.jpg?w=1400px&strip=all",
         "en",
         "2025-06-25T23:54:42+00:00",
         "dailybulletin",
         "SCNG reporters have strong showing at 67th SoCal Journalism Awards",
         "https://www.dailybulletin.com/2025/06/25/scng-reporters-have-strong-showing-at-67th-socal-journalism-awards/"
        ],
        [
         "Marissa Plescia",
         "general",
         "us",
         "Two digital health companies have gone public this year: Hinge Health and Omada Health. During a recent panel discussion, venture capitalists shared lessons learned about health tech in the public markets.The post What VCs Have Learned About Health Tech in the Public Markets appeared first on MedCity News.",
         null,
         "en",
         "2025-06-25T23:54:32+00:00",
         "medcitynews",
         "What VCs Have Learned About Health Tech in the Public Markets",
         "https://medcitynews.com/2025/06/what-vcs-have-learned-about-health-tech-in-the-public-markets/"
        ]
       ],
       "datasetInfos": [],
       "dbfsResultPath": null,
       "isJsonSchema": true,
       "metadata": {},
       "overflow": false,
       "plotOptions": {
        "customPlotOptions": {},
        "displayType": "table",
        "pivotAggregation": null,
        "pivotColumns": null,
        "xColumns": null,
        "yColumns": null
       },
       "removedWidgets": [],
       "schema": [
        {
         "metadata": "{}",
         "name": "author",
         "type": "\"string\""
        },
        {
         "metadata": "{}",
         "name": "category",
         "type": "\"string\""
        },
        {
         "metadata": "{}",
         "name": "country",
         "type": "\"string\""
        },
        {
         "metadata": "{}",
         "name": "description",
         "type": "\"string\""
        },
        {
         "metadata": "{}",
         "name": "image",
         "type": "\"string\""
        },
        {
         "metadata": "{}",
         "name": "language",
         "type": "\"string\""
        },
        {
         "metadata": "{}",
         "name": "published_at",
         "type": "\"string\""
        },
        {
         "metadata": "{}",
         "name": "source",
         "type": "\"string\""
        },
        {
         "metadata": "{}",
         "name": "title",
         "type": "\"string\""
        },
        {
         "metadata": "{}",
         "name": "url",
         "type": "\"string\""
        }
       ],
       "type": "table"
      }
     },
     "output_type": "display_data"
    }
   ],
   "source": [
    "# read the data from the bronze container\n",
    "news = spark.read\\\n",
    "    .format(\"json\")\\\n",
    "        .option(\"multiline\", \"true\")\\\n",
    "            .option(\"inferSchema\", \"true\")\\\n",
    "                .load(bronze_write_path)\n",
    "news.display()"
   ]
  },
  {
   "cell_type": "code",
   "execution_count": 0,
   "metadata": {
    "application/vnd.databricks.v1+cell": {
     "cellMetadata": {
      "byteLimit": 2048000,
      "rowLimit": 10000
     },
     "inputWidgets": {},
     "nuid": "3356acad-0fdd-4fdd-ae9e-4f22fbe9cc7b",
     "showTitle": false,
     "tableResultSettingsMap": {},
     "title": ""
    }
   },
   "outputs": [
    {
     "output_type": "stream",
     "name": "stdout",
     "output_type": "stream",
     "text": [
      "root\n |-- author: string (nullable = true)\n |-- category: string (nullable = true)\n |-- country: string (nullable = true)\n |-- description: string (nullable = true)\n |-- image: string (nullable = true)\n |-- language: string (nullable = true)\n |-- published_at: string (nullable = true)\n |-- source: string (nullable = true)\n |-- title: string (nullable = true)\n |-- url: string (nullable = true)\n\n"
     ]
    }
   ],
   "source": [
    "news.printSchema()"
   ]
  },
  {
   "cell_type": "code",
   "execution_count": 0,
   "metadata": {
    "application/vnd.databricks.v1+cell": {
     "cellMetadata": {
      "byteLimit": 2048000,
      "rowLimit": 10000
     },
     "inputWidgets": {},
     "nuid": "6196f9c4-d7e5-47e1-9896-4f70d1788871",
     "showTitle": false,
     "tableResultSettingsMap": {},
     "title": ""
    }
   },
   "outputs": [
    {
     "output_type": "stream",
     "name": "stdout",
     "output_type": "stream",
     "text": [
      "root\n |-- author: string (nullable = true)\n |-- category: string (nullable = true)\n |-- country: string (nullable = true)\n |-- description: string (nullable = true)\n |-- image: string (nullable = true)\n |-- language: string (nullable = true)\n |-- published_at: timestamp (nullable = true)\n |-- source: string (nullable = true)\n |-- title: string (nullable = true)\n |-- url: string (nullable = true)\n\n"
     ]
    }
   ],
   "source": [
    "# change the datatype of column published_at\n",
    "news = news.withColumn(\"published_at\", col(\"published_at\").cast(TimestampType()))\n",
    "news.printSchema()"
   ]
  },
  {
   "cell_type": "code",
   "execution_count": 0,
   "metadata": {
    "application/vnd.databricks.v1+cell": {
     "cellMetadata": {
      "byteLimit": 2048000,
      "rowLimit": 10000
     },
     "inputWidgets": {},
     "nuid": "5a4e7ff4-aad3-41b4-8602-7f59550f36b3",
     "showTitle": false,
     "tableResultSettingsMap": {},
     "title": ""
    }
   },
   "outputs": [
    {
     "output_type": "stream",
     "name": "stdout",
     "output_type": "stream",
     "text": [
      "Data written to abfss://silver@adlsnews.dfs.core.windows.net//2025-06-25 successfully\n"
     ]
    }
   ],
   "source": [
    "# write the data to the silver container\n",
    "try:\n",
    "    path = f\"{silver_path}/{current_date}\"\n",
    "    news.write\\\n",
    "        .format(\"parquet\")\\\n",
    "            .mode(\"overwrite\")\\\n",
    "                .save(path)\n",
    "    print(f\"Data written to {path} successfully\")\n",
    "except Exception as e:\n",
    "    print(f\"Error: {e}\")"
   ]
  },
  {
   "cell_type": "code",
   "execution_count": 0,
   "metadata": {
    "application/vnd.databricks.v1+cell": {
     "cellMetadata": {
      "byteLimit": 2048000,
      "rowLimit": 10000
     },
     "inputWidgets": {},
     "nuid": "7b9dbae9-24a6-4182-b9ae-b06a91f0c2cd",
     "showTitle": false,
     "tableResultSettingsMap": {},
     "title": ""
    }
   },
   "outputs": [],
   "source": [
    "# pass the output variables as parameters\n",
    "silver_output = {\n",
    "    \"silver_write_path\": path\n",
    "}\n",
    "dbutils.jobs.taskValues.set(key = \"silver_output\", value = silver_output)"
   ]
  },
  {
   "cell_type": "code",
   "execution_count": 0,
   "metadata": {
    "application/vnd.databricks.v1+cell": {
     "cellMetadata": {},
     "inputWidgets": {},
     "nuid": "3c05620c-20c8-42d4-a566-448b55e0fcee",
     "showTitle": false,
     "tableResultSettingsMap": {},
     "title": ""
    }
   },
   "outputs": [],
   "source": []
  }
 ],
 "metadata": {
  "application/vnd.databricks.v1+notebook": {
   "computePreferences": null,
   "dashboards": [],
   "environmentMetadata": {
    "base_environment": "",
    "environment_version": "2"
   },
   "inputWidgetPreferences": null,
   "language": "python",
   "notebookMetadata": {
    "pythonIndentUnit": 4
   },
   "notebookName": "Silver Notebook",
   "widgets": {}
  },
  "language_info": {
   "name": "python"
  }
 },
 "nbformat": 4,
 "nbformat_minor": 0
}